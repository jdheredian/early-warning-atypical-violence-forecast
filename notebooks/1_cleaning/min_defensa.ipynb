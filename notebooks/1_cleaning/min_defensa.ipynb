{
 "cells": [
  {
   "cell_type": "markdown",
   "id": "2164d1f4",
   "metadata": {},
   "source": [
    "<img src=\"https://industrial.uniandes.edu.co/sites/default/files/imagenes/uniandeslogo.png\" alt=\"Universidad de los Andes\" style=\"float: right; width: 300px; height: auto;\">\n",
    "\n",
    "# Cleaning Ministerio de Defensa Nacional de Colombia data\n",
    "\n",
    "Autor: Juan Diego Heredia Niño \n",
    "\n",
    "Email: jd.heredian@uniandes.edu.co\n",
    "\n",
    "Date: Oct 2025"
   ]
  },
  {
   "cell_type": "code",
   "execution_count": 1,
   "id": "3b47151c",
   "metadata": {},
   "outputs": [],
   "source": [
    "# Import necessary libraries\n",
    "import pandas as pd  # For data manipulation and analysis\n",
    "import yaml  # To read YAML configuration files\n",
    "from pathlib import Path  # For cross-platform file path handling"
   ]
  },
  {
   "cell_type": "code",
   "execution_count": 2,
   "id": "a2004750",
   "metadata": {},
   "outputs": [],
   "source": [
    "# Load directory paths from configuration file\n",
    "with open('paths.yml', 'r') as file:\n",
    "    paths = yaml.safe_load(file)  # Read and parse YAML file\n",
    "\n",
    "# Create Path objects for each directory\n",
    "raw = Path(paths['data']['raw'])  # Directory with raw data\n",
    "temp = Path(paths['data']['temp'])  # Directory with temporary processed data\n",
    "processed = Path(paths['data']['processed'])  # Directory with final processed data"
   ]
  },
  {
   "cell_type": "markdown",
   "id": "8a9d9230",
   "metadata": {},
   "source": [
    "## Homicides"
   ]
  },
  {
   "cell_type": "code",
   "execution_count": null,
   "id": "bd59e988",
   "metadata": {},
   "outputs": [],
   "source": [
    "# Read Excel file with intentional homicide data\n",
    "df_homicides = pd.read_excel(raw / 'mindef' / 'top5' / 'HOMICIDIO INTENCIONAL.xlsx')\n",
    "\n",
    "# Convert date to monthly period (first day of month) then to date format\n",
    "df_homicides['FECHA_HECHO'] = df_homicides['FECHA_HECHO'].dt.to_period('M').dt.to_timestamp().dt.date\n",
    "\n",
    "# Standardize municipality code: convert to 5-digit string (zero-padded)\n",
    "df_homicides['COD_MUNI'] = df_homicides['COD_MUNI'].astype(str).str.zfill(5)\n",
    "\n",
    "# Group by date and municipality, summing total victims\n",
    "df_homicides = df_homicides.groupby(['FECHA_HECHO', 'COD_MUNI'])[['VICTIMAS']].sum().reset_index()\n",
    "\n",
    "# Rename columns to English for standardization\n",
    "df_homicides.rename(columns={'FECHA_HECHO': 'date', 'COD_MUNI': 'mun_code', 'VICTIMAS': 'qty'}, inplace=True)\n",
    "\n",
    "# Assign crime code (1 = Homicide)\n",
    "df_homicides['crime_code'] = 1\n",
    "\n",
    "# Save result in Parquet format (more efficient than CSV)\n",
    "df_homicides.to_parquet(temp / 'mindef' / 'top5' /  'homicides.parquet', index=False)"
   ]
  },
  {
   "cell_type": "code",
   "execution_count": 4,
   "id": "9539e3e5",
   "metadata": {},
   "outputs": [
    {
     "name": "stdout",
     "output_type": "stream",
     "text": [
      "HOMICIDES - Data Quality Checks:\n",
      "  Total records: 87,828\n",
      "  Date range: 2003-01-01 to 2025-09-01\n",
      "  Unique municipalities: 1108\n",
      "  Total victims: 331,667\n",
      "  Null values: 0\n",
      "  Negative quantities: 0\n",
      "  Duplicates: 0\n",
      "\n"
     ]
    }
   ],
   "source": [
    "# Sanity checks for homicides\n",
    "print(\"HOMICIDES - Data Quality Checks:\")\n",
    "print(f\"  Total records: {len(df_homicides):,}\")\n",
    "print(f\"  Date range: {df_homicides['date'].min()} to {df_homicides['date'].max()}\")\n",
    "print(f\"  Unique municipalities: {df_homicides['mun_code'].nunique()}\")\n",
    "print(f\"  Total victims: {df_homicides['qty'].sum():,}\")\n",
    "print(f\"  Null values: {df_homicides.isnull().sum().sum()}\")\n",
    "print(f\"  Negative quantities: {(df_homicides['qty'] < 0).sum()}\")\n",
    "print(f\"  Duplicates: {df_homicides.duplicated(subset=['date', 'mun_code']).sum()}\")\n",
    "print()"
   ]
  },
  {
   "cell_type": "code",
   "execution_count": 5,
   "id": "81f98145",
   "metadata": {},
   "outputs": [],
   "source": [
    "# KIDNAPPINGS\n",
    "# Read Excel file with kidnapping data\n",
    "df_kidnappings = pd.read_excel(raw / 'mindef' / 'top5' / 'SECUESTRO.xlsx')\n",
    "\n",
    "# Convert date to monthly period (first day of month) then to date format\n",
    "df_kidnappings['FECHA_HECHO'] = df_kidnappings['FECHA_HECHO'].dt.to_period('M').dt.to_timestamp().dt.date\n",
    "\n",
    "# Standardize municipality code: convert to 5-digit string (zero-padded)\n",
    "df_kidnappings['COD_MUNI'] = df_kidnappings['COD_MUNI'].astype(str).str.zfill(5)\n",
    "\n",
    "# Group by date and municipality, summing the number of events\n",
    "df_kidnappings = df_kidnappings.groupby(['FECHA_HECHO', 'COD_MUNI'])[['CANTIDAD']].sum().reset_index()\n",
    "\n",
    "# Rename columns to English for standardization\n",
    "df_kidnappings.rename(columns={'FECHA_HECHO': 'date', 'COD_MUNI': 'mun_code', 'CANTIDAD': 'qty'}, inplace=True)\n",
    "\n",
    "# Assign crime code (2 = Kidnapping)\n",
    "df_kidnappings['crime_code'] = 2\n",
    "\n",
    "# Save result in Parquet format\n",
    "df_kidnappings.to_parquet(temp / 'mindef' / 'top5' /  'kidnappings.parquet', index=False)"
   ]
  },
  {
   "cell_type": "code",
   "execution_count": 6,
   "id": "b4dbf9ee",
   "metadata": {},
   "outputs": [
    {
     "name": "stdout",
     "output_type": "stream",
     "text": [
      "KIDNAPPINGS - Data Quality Checks:\n",
      "  Total records: 6,145\n",
      "  Date range: 2003-01-01 to 2025-09-01\n",
      "  Unique municipalities: 838\n",
      "  Total events: 10,254\n",
      "  Null values: 0\n",
      "  Negative quantities: 0\n",
      "  Duplicates: 0\n",
      "\n"
     ]
    }
   ],
   "source": [
    "# Sanity checks for kidnappings\n",
    "print(\"KIDNAPPINGS - Data Quality Checks:\")\n",
    "print(f\"  Total records: {len(df_kidnappings):,}\")\n",
    "print(f\"  Date range: {df_kidnappings['date'].min()} to {df_kidnappings['date'].max()}\")\n",
    "print(f\"  Unique municipalities: {df_kidnappings['mun_code'].nunique()}\")\n",
    "print(f\"  Total events: {df_kidnappings['qty'].sum():,}\")\n",
    "print(f\"  Null values: {df_kidnappings.isnull().sum().sum()}\")\n",
    "print(f\"  Negative quantities: {(df_kidnappings['qty'] < 0).sum()}\")\n",
    "print(f\"  Duplicates: {df_kidnappings.duplicated(subset=['date', 'mun_code']).sum()}\")\n",
    "print()"
   ]
  },
  {
   "cell_type": "code",
   "execution_count": 7,
   "id": "de81b5ff",
   "metadata": {},
   "outputs": [],
   "source": [
    "# TERRORISM\n",
    "# Read Excel file with terrorism data\n",
    "df_terrorsim = pd.read_excel(raw / 'mindef' / 'top5' / 'TERRORISMO.xlsx')\n",
    "\n",
    "# Convert date to monthly period (first day of month) then to date format\n",
    "df_terrorsim['FECHA_HECHO'] = df_terrorsim['FECHA_HECHO'].dt.to_period('M').dt.to_timestamp().dt.date\n",
    "\n",
    "# Standardize municipality code: convert to 5-digit string (zero-padded)\n",
    "df_terrorsim['COD_MUNI'] = df_terrorsim['COD_MUNI'].astype(str).str.zfill(5)\n",
    "\n",
    "# Group by date and municipality, summing the number of events\n",
    "df_terrorsim = df_terrorsim.groupby(['FECHA_HECHO', 'COD_MUNI'])[['CANTIDAD']].sum().reset_index()\n",
    "\n",
    "# Rename columns to English for standardization\n",
    "df_terrorsim.rename(columns={'FECHA_HECHO': 'date', 'COD_MUNI': 'mun_code', 'CANTIDAD': 'qty'}, inplace=True)\n",
    "\n",
    "# Assign crime code (3 = Terrorism)\n",
    "df_terrorsim['crime_code'] = 3\n",
    "\n",
    "# Save result in Parquet format\n",
    "df_terrorsim.to_parquet(temp / 'mindef' / 'top5' /  'terrorism.parquet', index=False)"
   ]
  },
  {
   "cell_type": "code",
   "execution_count": 8,
   "id": "dd4bf0bd",
   "metadata": {},
   "outputs": [
    {
     "name": "stdout",
     "output_type": "stream",
     "text": [
      "TERRORISM - Data Quality Checks:\n",
      "  Total records: 9,229\n",
      "  Date range: 2003-01-01 to 2025-09-01\n",
      "  Unique municipalities: 762\n",
      "  Total events: 14,313\n",
      "  Null values: 0\n",
      "  Negative quantities: 0\n",
      "  Duplicates: 0\n",
      "\n"
     ]
    }
   ],
   "source": [
    "# Sanity checks for terrorism\n",
    "print(\"TERRORISM - Data Quality Checks:\")\n",
    "print(f\"  Total records: {len(df_terrorsim):,}\")\n",
    "print(f\"  Date range: {df_terrorsim['date'].min()} to {df_terrorsim['date'].max()}\")\n",
    "print(f\"  Unique municipalities: {df_terrorsim['mun_code'].nunique()}\")\n",
    "print(f\"  Total events: {df_terrorsim['qty'].sum():,}\")\n",
    "print(f\"  Null values: {df_terrorsim.isnull().sum().sum()}\")\n",
    "print(f\"  Negative quantities: {(df_terrorsim['qty'] < 0).sum()}\")\n",
    "print(f\"  Duplicates: {df_terrorsim.duplicated(subset=['date', 'mun_code']).sum()}\")\n",
    "print()"
   ]
  },
  {
   "cell_type": "code",
   "execution_count": 9,
   "id": "7d9910af",
   "metadata": {},
   "outputs": [],
   "source": [
    "# EXTORTION\n",
    "# Read Excel file with extortion data\n",
    "df_extortion = pd.read_excel(raw / 'mindef' / 'top5' / 'EXTORSIÓN.xlsx')\n",
    "\n",
    "# Convert date to monthly period (first day of month) then to date format\n",
    "df_extortion['FECHA_HECHO'] = df_extortion['FECHA_HECHO'].dt.to_period('M').dt.to_timestamp().dt.date\n",
    "\n",
    "# Standardize municipality code: convert to 5-digit string (zero-padded)\n",
    "df_extortion['COD_MUNI'] = df_extortion['COD_MUNI'].astype(str).str.zfill(5)\n",
    "\n",
    "# Group by date and municipality, summing the number of events\n",
    "df_extortion = df_extortion.groupby(['FECHA_HECHO', 'COD_MUNI'])[['CANTIDAD']].sum().reset_index()\n",
    "\n",
    "# Rename columns to English for standardization\n",
    "df_extortion.rename(columns={'FECHA_HECHO': 'date', 'COD_MUNI': 'mun_code', 'CANTIDAD': 'qty'}, inplace=True)\n",
    "\n",
    "# Assign crime code (4 = Extortion)\n",
    "df_extortion['crime_code'] = 4\n",
    "\n",
    "# Save result in Parquet format\n",
    "df_extortion.to_parquet(temp / 'mindef' / 'top5' /  'extortion.parquet', index=False)"
   ]
  },
  {
   "cell_type": "code",
   "execution_count": 10,
   "id": "a680d216",
   "metadata": {},
   "outputs": [
    {
     "name": "stdout",
     "output_type": "stream",
     "text": [
      "EXTORTION - Data Quality Checks:\n",
      "  Total records: 37,761\n",
      "  Date range: 2003-01-01 to 2025-09-01\n",
      "  Unique municipalities: 1086\n",
      "  Total events: 117,877\n",
      "  Null values: 0\n",
      "  Negative quantities: 0\n",
      "  Duplicates: 0\n",
      "\n"
     ]
    }
   ],
   "source": [
    "# Sanity checks for extortion\n",
    "print(\"EXTORTION - Data Quality Checks:\")\n",
    "print(f\"  Total records: {len(df_extortion):,}\")\n",
    "print(f\"  Date range: {df_extortion['date'].min()} to {df_extortion['date'].max()}\")\n",
    "print(f\"  Unique municipalities: {df_extortion['mun_code'].nunique()}\")\n",
    "print(f\"  Total events: {df_extortion['qty'].sum():,}\")\n",
    "print(f\"  Null values: {df_extortion.isnull().sum().sum()}\")\n",
    "print(f\"  Negative quantities: {(df_extortion['qty'] < 0).sum()}\")\n",
    "print(f\"  Duplicates: {df_extortion.duplicated(subset=['date', 'mun_code']).sum()}\")\n",
    "print()"
   ]
  },
  {
   "cell_type": "code",
   "execution_count": 11,
   "id": "0cc9da3d",
   "metadata": {},
   "outputs": [],
   "source": [
    "# MASSACRES\n",
    "# Read Excel file with massacre data\n",
    "df_massacres = pd.read_excel(raw / 'mindef' / 'top5' / 'MASACRES.xlsx')\n",
    "\n",
    "# Convert date to monthly period (first day of month) then to date format\n",
    "df_massacres['FECHA_HECHO'] = df_massacres['FECHA_HECHO'].dt.to_period('M').dt.to_timestamp().dt.date\n",
    "\n",
    "# Standardize municipality code: convert to 5-digit string (zero-padded)\n",
    "df_massacres['COD_MUNI'] = df_massacres['COD_MUNI'].astype(str).str.zfill(5)\n",
    "\n",
    "# Group by date and municipality, summing total victims\n",
    "df_massacres = df_massacres.groupby(['FECHA_HECHO', 'COD_MUNI'])[['VICTIMAS']].sum().reset_index()\n",
    "\n",
    "# Rename columns to English for standardization\n",
    "df_massacres.rename(columns={'FECHA_HECHO': 'date', 'COD_MUNI': 'mun_code', 'VICTIMAS': 'qty'}, inplace=True)\n",
    "\n",
    "# Assign crime code (5 = Massacres)\n",
    "df_massacres['crime_code'] = 5\n",
    "\n",
    "# Save result in Parquet format\n",
    "df_massacres.to_parquet(temp / 'mindef' / 'top5' /  'massacres.parquet', index=False)"
   ]
  },
  {
   "cell_type": "code",
   "execution_count": 12,
   "id": "cd60e92d",
   "metadata": {},
   "outputs": [
    {
     "name": "stdout",
     "output_type": "stream",
     "text": [
      "MASSACRES - Data Quality Checks:\n",
      "  Total records: 342\n",
      "  Date range: 2022-01-01 to 2025-09-01\n",
      "  Unique municipalities: 190\n",
      "  Total victims: 1,225\n",
      "  Null values: 0\n",
      "  Negative quantities: 0\n",
      "  Duplicates: 0\n",
      "\n"
     ]
    }
   ],
   "source": [
    "# Sanity checks for massacres\n",
    "print(\"MASSACRES - Data Quality Checks:\")\n",
    "print(f\"  Total records: {len(df_massacres):,}\")\n",
    "print(f\"  Date range: {df_massacres['date'].min()} to {df_massacres['date'].max()}\")\n",
    "print(f\"  Unique municipalities: {df_massacres['mun_code'].nunique()}\")\n",
    "print(f\"  Total victims: {df_massacres['qty'].sum():,}\")\n",
    "print(f\"  Null values: {df_massacres.isnull().sum().sum()}\")\n",
    "print(f\"  Negative quantities: {(df_massacres['qty'] < 0).sum()}\")\n",
    "print(f\"  Duplicates: {df_massacres.duplicated(subset=['date', 'mun_code']).sum()}\")\n",
    "print()"
   ]
  },
  {
   "cell_type": "markdown",
   "id": "9806c8ba",
   "metadata": {},
   "source": [
    "## Standard Cleaning Process\n",
    "\n",
    "This notebook processes 5 types of crimes from the Colombian Ministry of Defense:\n",
    "\n",
    "1. **Intentional Homicide** (crime_code = 1)\n",
    "2. **Kidnapping** (crime_code = 2)\n",
    "3. **Terrorism** (crime_code = 3)\n",
    "4. **Extortion** (crime_code = 4)\n",
    "5. **Massacres** (crime_code = 5)\n",
    "\n",
    "### Process steps for each file:\n",
    "\n",
    "1. **Reading**: Load Excel file from `data/raw/mindef/top5/`\n",
    "2. **Date normalization**: Convert `FECHA_HECHO` to monthly period (format: YYYY-MM-01)\n",
    "3. **Code standardization**: Convert `COD_MUNI` to 5-digit zero-padded string\n",
    "4. **Aggregation**: Group by date and municipality, summing victims/event count\n",
    "5. **Renaming**: Standardize column names to English (`date`, `mun_code`, `qty`)\n",
    "6. **Encoding**: Add `crime_code` column to identify crime type\n",
    "7. **Export**: Save in Parquet format to `data/temp/mindef/top5/`\n",
    "\n",
    "### Output structure:\n",
    "Each processed file has the same structure:\n",
    "- `date`: Event date (first day of month)\n",
    "- `mun_code`: Municipality code (5 digits)\n",
    "- `qty`: Number of victims or events\n",
    "- `crime_code`: Crime type identifier (1-5)"
   ]
  }
 ],
 "metadata": {
  "kernelspec": {
   "display_name": "base",
   "language": "python",
   "name": "python3"
  },
  "language_info": {
   "codemirror_mode": {
    "name": "ipython",
    "version": 3
   },
   "file_extension": ".py",
   "mimetype": "text/x-python",
   "name": "python",
   "nbconvert_exporter": "python",
   "pygments_lexer": "ipython3",
   "version": "3.10.16"
  }
 },
 "nbformat": 4,
 "nbformat_minor": 5
}
